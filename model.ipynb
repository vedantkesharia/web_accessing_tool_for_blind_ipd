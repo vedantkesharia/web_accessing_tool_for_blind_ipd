{
 "cells": [
  {
   "cell_type": "code",
   "execution_count": 1,
   "metadata": {},
   "outputs": [
    {
     "data": {
      "text/html": [
       "<div>\n",
       "<style scoped>\n",
       "    .dataframe tbody tr th:only-of-type {\n",
       "        vertical-align: middle;\n",
       "    }\n",
       "\n",
       "    .dataframe tbody tr th {\n",
       "        vertical-align: top;\n",
       "    }\n",
       "\n",
       "    .dataframe thead th {\n",
       "        text-align: right;\n",
       "    }\n",
       "</style>\n",
       "<table border=\"1\" class=\"dataframe\">\n",
       "  <thead>\n",
       "    <tr style=\"text-align: right;\">\n",
       "      <th></th>\n",
       "      <th>Query</th>\n",
       "      <th>Field</th>\n",
       "    </tr>\n",
       "  </thead>\n",
       "  <tbody>\n",
       "    <tr>\n",
       "      <th>0</th>\n",
       "      <td>What is the capital of Mexico?</td>\n",
       "      <td>Geography</td>\n",
       "    </tr>\n",
       "    <tr>\n",
       "      <th>1</th>\n",
       "      <td>How does quantum computing work?</td>\n",
       "      <td>Science</td>\n",
       "    </tr>\n",
       "    <tr>\n",
       "      <th>2</th>\n",
       "      <td>What is the stock price of Samsung?</td>\n",
       "      <td>Finance</td>\n",
       "    </tr>\n",
       "    <tr>\n",
       "      <th>3</th>\n",
       "      <td>How to learn Go programming?</td>\n",
       "      <td>Computer Science</td>\n",
       "    </tr>\n",
       "    <tr>\n",
       "      <th>4</th>\n",
       "      <td>What is bioinformatics in data science?</td>\n",
       "      <td>Data Science</td>\n",
       "    </tr>\n",
       "  </tbody>\n",
       "</table>\n",
       "</div>"
      ],
      "text/plain": [
       "                                     Query             Field\n",
       "0           What is the capital of Mexico?         Geography\n",
       "1         How does quantum computing work?           Science\n",
       "2      What is the stock price of Samsung?           Finance\n",
       "3             How to learn Go programming?  Computer Science\n",
       "4  What is bioinformatics in data science?      Data Science"
      ]
     },
     "metadata": {},
     "output_type": "display_data"
    },
    {
     "name": "stdout",
     "output_type": "stream",
     "text": [
      "Query    object\n",
      "Field    object\n",
      "dtype: object\n"
     ]
    }
   ],
   "source": [
    "import pandas as pd\n",
    "\n",
    "# Load the dataset\n",
    "sports_df = pd.read_excel('queries_dataset.xlsx')\n",
    "\n",
    "# Display the first few rows of the dataframe\n",
    "display(sports_df.head())\n",
    "\n",
    "# Show the columns and data types\n",
    "print(sports_df.dtypes)"
   ]
  },
  {
   "cell_type": "code",
   "execution_count": 2,
   "metadata": {},
   "outputs": [],
   "source": [
    "# from sklearn.feature_extraction.text import TfidfVectorizer\n",
    "# from sklearn.model_selection import train_test_split\n",
    "# from sklearn.linear_model import LogisticRegression\n",
    "# from sklearn.metrics import classification_report, accuracy_score\n",
    "\n",
    "# # Vectorizing the queries\n",
    "# vectorizer = TfidfVectorizer()\n",
    "# X = vectorizer.fit_transform(sports_df['Query'])\n",
    "# y = sports_df['Field']\n",
    "\n",
    "# # Splitting the data into training and testing sets\n",
    "# X_train, X_test, y_train, y_test = train_test_split(X, y, test_size=0.2, random_state=0)\n",
    "\n",
    "# # Training a Logistic Regression model\n",
    "# model = LogisticRegression(max_iter=1000)\n",
    "# model.fit(X_train, y_train)\n",
    "\n",
    "# # Predicting and evaluating the model\n",
    "# y_pred = model.predict(X_test)\n",
    "# accuracy = accuracy_score(y_test, y_pred)\n",
    "# report = classification_report(y_test, y_pred)\n",
    "\n",
    "# print('Model trained and evaluated.')\n",
    "# print('Accuracy Score:', accuracy)\n",
    "# print('Classification Report:\\\n",
    "# ', report)"
   ]
  },
  {
   "cell_type": "code",
   "execution_count": 3,
   "metadata": {},
   "outputs": [
    {
     "name": "stdout",
     "output_type": "stream",
     "text": [
      "Model trained and evaluated.\n",
      "Accuracy Score: 100.0 %\n",
      "Classification Report:\n",
      " {'Computer Science': {'precision': 100.0, 'recall': 100.0, 'f1-score': 100.0, 'support': 19.0}, 'Data Science': {'precision': 100.0, 'recall': 100.0, 'f1-score': 100.0, 'support': 16.0}, 'Economy': {'precision': 100.0, 'recall': 100.0, 'f1-score': 100.0, 'support': 15.0}, 'Finance': {'precision': 100.0, 'recall': 100.0, 'f1-score': 100.0, 'support': 43.0}, 'Geography': {'precision': 100.0, 'recall': 100.0, 'f1-score': 100.0, 'support': 21.0}, 'Health': {'precision': 100.0, 'recall': 100.0, 'f1-score': 100.0, 'support': 49.0}, 'History': {'precision': 100.0, 'recall': 100.0, 'f1-score': 100.0, 'support': 18.0}, 'Science': {'precision': 100.0, 'recall': 100.0, 'f1-score': 100.0, 'support': 28.0}, 'Sports': {'precision': 100.0, 'recall': 100.0, 'f1-score': 100.0, 'support': 181.0}, 'Trends': {'precision': 100.0, 'recall': 100.0, 'f1-score': 100.0, 'support': 10.0}, 'accuracy': 100.0, 'macro avg': {'precision': 100.0, 'recall': 100.0, 'f1-score': 100.0, 'support': 400.0}, 'weighted avg': {'precision': 100.0, 'recall': 100.0, 'f1-score': 100.0, 'support': 400.0}}\n"
     ]
    }
   ],
   "source": [
    "from sklearn.feature_extraction.text import TfidfVectorizer\n",
    "from sklearn.model_selection import train_test_split\n",
    "from sklearn.linear_model import LogisticRegression\n",
    "from sklearn.metrics import classification_report, accuracy_score\n",
    "\n",
    "# Vectorizing the queries\n",
    "vectorizer = TfidfVectorizer()\n",
    "X = vectorizer.fit_transform(sports_df['Query'])\n",
    "y = sports_df['Field']\n",
    "\n",
    "# Splitting the data into training and testing sets\n",
    "X_train, X_test, y_train, y_test = train_test_split(X, y, test_size=0.2, random_state=0)\n",
    "\n",
    "# Training a Logistic Regression model\n",
    "model = LogisticRegression(max_iter=1000)\n",
    "model.fit(X_train, y_train)\n",
    "\n",
    "# Predicting\n",
    "y_pred = model.predict(X_test)\n",
    "\n",
    "# Evaluating the model\n",
    "accuracy = accuracy_score(y_test, y_pred)\n",
    "report = classification_report(y_test, y_pred, output_dict=True)\n",
    "\n",
    "# Convert metrics to percentage\n",
    "accuracy_percent = accuracy * 100\n",
    "for label, metrics in report.items():\n",
    "    if label == 'accuracy':\n",
    "        report[label] = metrics * 100\n",
    "    else:\n",
    "        for metric, value in metrics.items():\n",
    "            if metric != 'support':\n",
    "                report[label][metric] = value * 100\n",
    "\n",
    "print('Model trained and evaluated.')\n",
    "print('Accuracy Score:', accuracy_percent, '%')\n",
    "print('Classification Report:\\n', report)\n"
   ]
  },
  {
   "cell_type": "code",
   "execution_count": 4,
   "metadata": {},
   "outputs": [
    {
     "name": "stdout",
     "output_type": "stream",
     "text": [
      "Query: Who won the last NBA championship? Predicted Field: Sports \n",
      "Query: What are the health benefits of yoga? Predicted Field: Health \n",
      "Query: Benefits of eating good food? Predicted Field: Health \n",
      "Query: What are the latest trends in AI technology? Predicted Field: Trends \n",
      "Query: Tell me about the history of the Roman Empire Predicted Field: History \n"
     ]
    }
   ],
   "source": [
    "# Example queries to test the model\n",
    "example_queries = [\n",
    "    'Who won the last NBA championship?',\n",
    "    'What are the health benefits of yoga?',\n",
    "    'Benefits of eating good food?',\n",
    "    'What are the latest trends in AI technology?',\n",
    "    'Tell me about the history of the Roman Empire'\n",
    "]\n",
    "\n",
    "# Vectorizing the example queries using the same vectorizer\n",
    "example_queries_vectorized = vectorizer.transform(example_queries)\n",
    "\n",
    "# Predicting the fields of interest for the example queries\n",
    "predicted_fields = model.predict(example_queries_vectorized)\n",
    "\n",
    "# Displaying the queries and their predicted fields\n",
    "for query, field in zip(example_queries, predicted_fields):\n",
    "    print('Query:', query, '\\\n",
    "Predicted Field:', field, '\\\n",
    "')"
   ]
  },
  {
   "cell_type": "code",
   "execution_count": 5,
   "metadata": {},
   "outputs": [
    {
     "name": "stdout",
     "output_type": "stream",
     "text": [
      "Model has been saved as: field_of_interest.pkl\n"
     ]
    }
   ],
   "source": [
    "import pickle\n",
    "\n",
    "# Save the Logistic Regression model to a pickle file\n",
    "model_filename = 'field_of_interest.pkl'\n",
    "with open(model_filename, 'wb') as file:\n",
    "    pickle.dump(model, file)\n",
    "\n",
    "print('Model has been saved as:', model_filename)"
   ]
  }
 ],
 "metadata": {
  "kernelspec": {
   "display_name": "Python 3",
   "language": "python",
   "name": "python3"
  },
  "language_info": {
   "codemirror_mode": {
    "name": "ipython",
    "version": 3
   },
   "file_extension": ".py",
   "mimetype": "text/x-python",
   "name": "python",
   "nbconvert_exporter": "python",
   "pygments_lexer": "ipython3",
   "version": "3.12.3"
  }
 },
 "nbformat": 4,
 "nbformat_minor": 2
}
